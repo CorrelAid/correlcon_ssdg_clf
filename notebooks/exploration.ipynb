{
 "cells": [
  {
   "cell_type": "code",
   "execution_count": 1,
   "metadata": {},
   "outputs": [],
   "source": [
    "import polars as pl"
   ]
  },
  {
   "cell_type": "code",
   "execution_count": 8,
   "metadata": {},
   "outputs": [],
   "source": [
    "df = pl.read_csv(\"../data/sdg_knowledge_hub.csv\")"
   ]
  },
  {
   "cell_type": "code",
   "execution_count": 9,
   "metadata": {},
   "outputs": [
    {
     "data": {
      "text/html": [
       "<div><style>\n",
       ".dataframe > thead > tr,\n",
       ".dataframe > tbody > tr {\n",
       "  text-align: right;\n",
       "  white-space: pre-wrap;\n",
       "}\n",
       "</style>\n",
       "<small>shape: (9_172, 23)</small><table border=\"1\" class=\"dataframe\"><thead><tr><th>url</th><th>title</th><th>type</th><th>text</th><th>date</th><th>sdgs</th><th>SDG-01</th><th>SDG-02</th><th>SDG-03</th><th>SDG-04</th><th>SDG-05</th><th>SDG-06</th><th>SDG-07</th><th>SDG-08</th><th>SDG-09</th><th>SDG-10</th><th>SDG-11</th><th>SDG-12</th><th>SDG-13</th><th>SDG-14</th><th>SDG-15</th><th>SDG-16</th><th>SDG-17</th></tr><tr><td>str</td><td>str</td><td>str</td><td>str</td><td>str</td><td>str</td><td>i64</td><td>i64</td><td>i64</td><td>i64</td><td>i64</td><td>i64</td><td>i64</td><td>i64</td><td>i64</td><td>i64</td><td>i64</td><td>i64</td><td>i64</td><td>i64</td><td>i64</td><td>i64</td><td>i64</td></tr></thead><tbody><tr><td>&quot;http://sdg.iisd.org/news/unece…</td><td>&quot;UNECE Releases 44 Recommended …</td><td>&quot;news&quot;</td><td>&quot;UNECE Releases 44 Recommended …</td><td>&quot;10 September 2021&quot;</td><td>&quot;7 SDGs&quot;</td><td>1</td><td>1</td><td>0</td><td>0</td><td>0</td><td>1</td><td>1</td><td>0</td><td>0</td><td>0</td><td>1</td><td>0</td><td>1</td><td>0</td><td>1</td><td>0</td><td>0</td></tr><tr><td>&quot;http://sdg.iisd.org/news/large…</td><td>&quot;Largest Source of Lead Polluti…</td><td>&quot;news&quot;</td><td>&quot;Largest Source of Lead Polluti…</td><td>&quot;10 September 2021&quot;</td><td>&quot;2 SDGs&quot;</td><td>0</td><td>0</td><td>1</td><td>0</td><td>0</td><td>0</td><td>0</td><td>0</td><td>0</td><td>0</td><td>0</td><td>1</td><td>0</td><td>0</td><td>0</td><td>0</td><td>0</td></tr><tr><td>&quot;http://sdg.iisd.org/news/vnr-u…</td><td>&quot;VNR Update: 15 Countries Plann…</td><td>&quot;news&quot;</td><td>&quot;VNR Update: 15 Countries Plann…</td><td>&quot;10 September 2021&quot;</td><td>&quot;Partnerships for the Goals&quot;</td><td>0</td><td>0</td><td>0</td><td>0</td><td>0</td><td>0</td><td>0</td><td>0</td><td>0</td><td>0</td><td>0</td><td>0</td><td>0</td><td>0</td><td>0</td><td>0</td><td>1</td></tr><tr><td>&quot;http://sdg.iisd.org/news/sdg-m…</td><td>&quot;SDG Moment Will Provide Realit…</td><td>&quot;news&quot;</td><td>&quot;SDG Moment Will Provide Realit…</td><td>&quot;9 September 2021&quot;</td><td>&quot;17 SDGs&quot;</td><td>1</td><td>1</td><td>1</td><td>1</td><td>1</td><td>1</td><td>1</td><td>1</td><td>1</td><td>1</td><td>1</td><td>1</td><td>1</td><td>1</td><td>1</td><td>1</td><td>1</td></tr><tr><td>&quot;http://sdg.iisd.org/news/biodi…</td><td>&quot;Biodiversity Framework Will Ne…</td><td>&quot;news&quot;</td><td>&quot;Biodiversity Framework Will Ne…</td><td>&quot;7 September 2021&quot;</td><td>&quot;Life on Land&quot;</td><td>0</td><td>0</td><td>0</td><td>0</td><td>0</td><td>0</td><td>0</td><td>0</td><td>0</td><td>0</td><td>0</td><td>0</td><td>0</td><td>0</td><td>1</td><td>0</td><td>0</td></tr><tr><td>&hellip;</td><td>&hellip;</td><td>&hellip;</td><td>&hellip;</td><td>&hellip;</td><td>&hellip;</td><td>&hellip;</td><td>&hellip;</td><td>&hellip;</td><td>&hellip;</td><td>&hellip;</td><td>&hellip;</td><td>&hellip;</td><td>&hellip;</td><td>&hellip;</td><td>&hellip;</td><td>&hellip;</td><td>&hellip;</td><td>&hellip;</td><td>&hellip;</td><td>&hellip;</td><td>&hellip;</td><td>&hellip;</td></tr><tr><td>&quot;http://sdg.iisd.org/commentary…</td><td>&quot;UN Encourages Children to “Tak…</td><td>&quot;generation_30&quot;</td><td>&quot;UN Encourages Children to “Tak…</td><td>&quot;23 November 2017&quot;</td><td>&quot;3 SDGs&quot;</td><td>1</td><td>0</td><td>0</td><td>1</td><td>0</td><td>0</td><td>0</td><td>0</td><td>0</td><td>0</td><td>0</td><td>0</td><td>0</td><td>0</td><td>0</td><td>1</td><td>0</td></tr><tr><td>&quot;http://sdg.iisd.org/commentary…</td><td>&quot;COP 23 Presidency’s Grand Coal…</td><td>&quot;generation_30&quot;</td><td>&quot;COP 23 Presidency’s Grand Coal…</td><td>&quot;14 November 2017&quot;</td><td>&quot;5 SDGs&quot;</td><td>0</td><td>1</td><td>0</td><td>1</td><td>0</td><td>0</td><td>0</td><td>0</td><td>0</td><td>0</td><td>0</td><td>0</td><td>1</td><td>0</td><td>0</td><td>1</td><td>1</td></tr><tr><td>&quot;http://sdg.iisd.org/commentary…</td><td>&quot;African Youth Take Action on C…</td><td>&quot;generation_30&quot;</td><td>&quot;African Youth Take Action on C…</td><td>&quot;14 November 2017&quot;</td><td>&quot;5 SDGs&quot;</td><td>0</td><td>0</td><td>0</td><td>1</td><td>0</td><td>0</td><td>1</td><td>0</td><td>0</td><td>0</td><td>0</td><td>0</td><td>1</td><td>0</td><td>1</td><td>0</td><td>1</td></tr><tr><td>&quot;http://sdg.iisd.org/commentary…</td><td>&quot;Generation 2030: Have Your Say…</td><td>&quot;generation_30&quot;</td><td>&quot;Generation 2030: Have Your Say…</td><td>&quot;9 November 2017&quot;</td><td>&quot;Partnerships for the Goals&quot;</td><td>0</td><td>0</td><td>0</td><td>0</td><td>0</td><td>0</td><td>0</td><td>0</td><td>0</td><td>0</td><td>0</td><td>0</td><td>0</td><td>0</td><td>0</td><td>0</td><td>1</td></tr><tr><td>&quot;http://sdg.iisd.org/commentary…</td><td>&quot;Youth Engage with Nordic Count…</td><td>&quot;generation_30&quot;</td><td>&quot;Youth Engage with Nordic Count…</td><td>&quot;9 November 2017&quot;</td><td>&quot;3 SDGs&quot;</td><td>0</td><td>0</td><td>0</td><td>1</td><td>0</td><td>0</td><td>0</td><td>0</td><td>0</td><td>0</td><td>0</td><td>0</td><td>1</td><td>0</td><td>0</td><td>0</td><td>1</td></tr></tbody></table></div>"
      ],
      "text/plain": [
       "shape: (9_172, 23)\n",
       "┌──────────────┬──────────────┬──────────────┬─────────────┬───┬────────┬────────┬────────┬────────┐\n",
       "│ url          ┆ title        ┆ type         ┆ text        ┆ … ┆ SDG-14 ┆ SDG-15 ┆ SDG-16 ┆ SDG-17 │\n",
       "│ ---          ┆ ---          ┆ ---          ┆ ---         ┆   ┆ ---    ┆ ---    ┆ ---    ┆ ---    │\n",
       "│ str          ┆ str          ┆ str          ┆ str         ┆   ┆ i64    ┆ i64    ┆ i64    ┆ i64    │\n",
       "╞══════════════╪══════════════╪══════════════╪═════════════╪═══╪════════╪════════╪════════╪════════╡\n",
       "│ http://sdg.i ┆ UNECE        ┆ news         ┆ UNECE       ┆ … ┆ 0      ┆ 1      ┆ 0      ┆ 0      │\n",
       "│ isd.org/news ┆ Releases 44  ┆              ┆ Releases 44 ┆   ┆        ┆        ┆        ┆        │\n",
       "│ /unece…      ┆ Recommended  ┆              ┆ Recommended ┆   ┆        ┆        ┆        ┆        │\n",
       "│              ┆ …            ┆              ┆ …           ┆   ┆        ┆        ┆        ┆        │\n",
       "│ http://sdg.i ┆ Largest      ┆ news         ┆ Largest     ┆ … ┆ 0      ┆ 0      ┆ 0      ┆ 0      │\n",
       "│ isd.org/news ┆ Source of    ┆              ┆ Source of   ┆   ┆        ┆        ┆        ┆        │\n",
       "│ /large…      ┆ Lead         ┆              ┆ Lead        ┆   ┆        ┆        ┆        ┆        │\n",
       "│              ┆ Polluti…     ┆              ┆ Polluti…    ┆   ┆        ┆        ┆        ┆        │\n",
       "│ http://sdg.i ┆ VNR Update:  ┆ news         ┆ VNR Update: ┆ … ┆ 0      ┆ 0      ┆ 0      ┆ 1      │\n",
       "│ isd.org/news ┆ 15 Countries ┆              ┆ 15          ┆   ┆        ┆        ┆        ┆        │\n",
       "│ /vnr-u…      ┆ Plann…       ┆              ┆ Countries   ┆   ┆        ┆        ┆        ┆        │\n",
       "│              ┆              ┆              ┆ Plann…      ┆   ┆        ┆        ┆        ┆        │\n",
       "│ http://sdg.i ┆ SDG Moment   ┆ news         ┆ SDG Moment  ┆ … ┆ 1      ┆ 1      ┆ 1      ┆ 1      │\n",
       "│ isd.org/news ┆ Will Provide ┆              ┆ Will        ┆   ┆        ┆        ┆        ┆        │\n",
       "│ /sdg-m…      ┆ Realit…      ┆              ┆ Provide     ┆   ┆        ┆        ┆        ┆        │\n",
       "│              ┆              ┆              ┆ Realit…     ┆   ┆        ┆        ┆        ┆        │\n",
       "│ http://sdg.i ┆ Biodiversity ┆ news         ┆ Biodiversit ┆ … ┆ 0      ┆ 1      ┆ 0      ┆ 0      │\n",
       "│ isd.org/news ┆ Framework    ┆              ┆ y Framework ┆   ┆        ┆        ┆        ┆        │\n",
       "│ /biodi…      ┆ Will Ne…     ┆              ┆ Will Ne…    ┆   ┆        ┆        ┆        ┆        │\n",
       "│ …            ┆ …            ┆ …            ┆ …           ┆ … ┆ …      ┆ …      ┆ …      ┆ …      │\n",
       "│ http://sdg.i ┆ UN           ┆ generation_3 ┆ UN          ┆ … ┆ 0      ┆ 0      ┆ 1      ┆ 0      │\n",
       "│ isd.org/comm ┆ Encourages   ┆ 0            ┆ Encourages  ┆   ┆        ┆        ┆        ┆        │\n",
       "│ entary…      ┆ Children to  ┆              ┆ Children to ┆   ┆        ┆        ┆        ┆        │\n",
       "│              ┆ “Tak…        ┆              ┆ “Tak…       ┆   ┆        ┆        ┆        ┆        │\n",
       "│ http://sdg.i ┆ COP 23       ┆ generation_3 ┆ COP 23 Pres ┆ … ┆ 0      ┆ 0      ┆ 1      ┆ 1      │\n",
       "│ isd.org/comm ┆ Presidency’s ┆ 0            ┆ idency’s    ┆   ┆        ┆        ┆        ┆        │\n",
       "│ entary…      ┆ Grand Coal…  ┆              ┆ Grand Coal… ┆   ┆        ┆        ┆        ┆        │\n",
       "│ http://sdg.i ┆ African      ┆ generation_3 ┆ African     ┆ … ┆ 0      ┆ 1      ┆ 0      ┆ 1      │\n",
       "│ isd.org/comm ┆ Youth Take   ┆ 0            ┆ Youth Take  ┆   ┆        ┆        ┆        ┆        │\n",
       "│ entary…      ┆ Action on C… ┆              ┆ Action on   ┆   ┆        ┆        ┆        ┆        │\n",
       "│              ┆              ┆              ┆ C…          ┆   ┆        ┆        ┆        ┆        │\n",
       "│ http://sdg.i ┆ Generation   ┆ generation_3 ┆ Generation  ┆ … ┆ 0      ┆ 0      ┆ 0      ┆ 1      │\n",
       "│ isd.org/comm ┆ 2030: Have   ┆ 0            ┆ 2030: Have  ┆   ┆        ┆        ┆        ┆        │\n",
       "│ entary…      ┆ Your Say…    ┆              ┆ Your Say…   ┆   ┆        ┆        ┆        ┆        │\n",
       "│ http://sdg.i ┆ Youth Engage ┆ generation_3 ┆ Youth       ┆ … ┆ 0      ┆ 0      ┆ 0      ┆ 1      │\n",
       "│ isd.org/comm ┆ with Nordic  ┆ 0            ┆ Engage with ┆   ┆        ┆        ┆        ┆        │\n",
       "│ entary…      ┆ Count…       ┆              ┆ Nordic      ┆   ┆        ┆        ┆        ┆        │\n",
       "│              ┆              ┆              ┆ Count…      ┆   ┆        ┆        ┆        ┆        │\n",
       "└──────────────┴──────────────┴──────────────┴─────────────┴───┴────────┴────────┴────────┴────────┘"
      ]
     },
     "execution_count": 9,
     "metadata": {},
     "output_type": "execute_result"
    }
   ],
   "source": [
    "df"
   ]
  },
  {
   "cell_type": "code",
   "execution_count": 11,
   "metadata": {},
   "outputs": [
    {
     "data": {
      "text/plain": [
       "9172"
      ]
     },
     "execution_count": 11,
     "metadata": {},
     "output_type": "execute_result"
    }
   ],
   "source": [
    "len(df)"
   ]
  },
  {
   "cell_type": "code",
   "execution_count": 13,
   "metadata": {},
   "outputs": [
    {
     "data": {
      "text/html": [
       "<div><style>\n",
       ".dataframe > thead > tr,\n",
       ".dataframe > tbody > tr {\n",
       "  text-align: right;\n",
       "  white-space: pre-wrap;\n",
       "}\n",
       "</style>\n",
       "<small>shape: (2, 17)</small><table border=\"1\" class=\"dataframe\"><thead><tr><th>SDG-01</th><th>SDG-02</th><th>SDG-03</th><th>SDG-04</th><th>SDG-05</th><th>SDG-06</th><th>SDG-07</th><th>SDG-08</th><th>SDG-09</th><th>SDG-10</th><th>SDG-11</th><th>SDG-12</th><th>SDG-13</th><th>SDG-14</th><th>SDG-15</th><th>SDG-16</th><th>SDG-17</th></tr><tr><td>struct[2]</td><td>struct[2]</td><td>struct[2]</td><td>struct[2]</td><td>struct[2]</td><td>struct[2]</td><td>struct[2]</td><td>struct[2]</td><td>struct[2]</td><td>struct[2]</td><td>struct[2]</td><td>struct[2]</td><td>struct[2]</td><td>struct[2]</td><td>struct[2]</td><td>struct[2]</td><td>struct[2]</td></tr></thead><tbody><tr><td>{0,6610}</td><td>{0,7250}</td><td>{0,7223}</td><td>{0,7979}</td><td>{0,7370}</td><td>{0,7555}</td><td>{0,7307}</td><td>{0,7137}</td><td>{0,7583}</td><td>{0,7123}</td><td>{0,7646}</td><td>{0,7540}</td><td>{0,5471}</td><td>{0,7724}</td><td>{0,6975}</td><td>{0,7290}</td><td>{0,4688}</td></tr><tr><td>{1,2562}</td><td>{1,1922}</td><td>{1,1949}</td><td>{1,1193}</td><td>{1,1802}</td><td>{1,1617}</td><td>{1,1865}</td><td>{1,2035}</td><td>{1,1589}</td><td>{1,2049}</td><td>{1,1526}</td><td>{1,1632}</td><td>{1,3701}</td><td>{1,1448}</td><td>{1,2197}</td><td>{1,1882}</td><td>{1,4484}</td></tr></tbody></table></div>"
      ],
      "text/plain": [
       "shape: (2, 17)\n",
       "┌───────────┬───────────┬───────────┬───────────┬───┬───────────┬───────────┬───────────┬──────────┐\n",
       "│ SDG-01    ┆ SDG-02    ┆ SDG-03    ┆ SDG-04    ┆ … ┆ SDG-14    ┆ SDG-15    ┆ SDG-16    ┆ SDG-17   │\n",
       "│ ---       ┆ ---       ┆ ---       ┆ ---       ┆   ┆ ---       ┆ ---       ┆ ---       ┆ ---      │\n",
       "│ struct[2] ┆ struct[2] ┆ struct[2] ┆ struct[2] ┆   ┆ struct[2] ┆ struct[2] ┆ struct[2] ┆ struct[2 │\n",
       "│           ┆           ┆           ┆           ┆   ┆           ┆           ┆           ┆ ]        │\n",
       "╞═══════════╪═══════════╪═══════════╪═══════════╪═══╪═══════════╪═══════════╪═══════════╪══════════╡\n",
       "│ {0,6610}  ┆ {0,7250}  ┆ {0,7223}  ┆ {0,7979}  ┆ … ┆ {0,7724}  ┆ {0,6975}  ┆ {0,7290}  ┆ {0,4688} │\n",
       "│ {1,2562}  ┆ {1,1922}  ┆ {1,1949}  ┆ {1,1193}  ┆ … ┆ {1,1448}  ┆ {1,2197}  ┆ {1,1882}  ┆ {1,4484} │\n",
       "└───────────┴───────────┴───────────┴───────────┴───┴───────────┴───────────┴───────────┴──────────┘"
      ]
     },
     "execution_count": 13,
     "metadata": {},
     "output_type": "execute_result"
    }
   ],
   "source": [
    "df.select(pl.col(\"^SDG.*$\").value_counts(sort=True))"
   ]
  }
 ],
 "metadata": {
  "kernelspec": {
   "display_name": "correlcon-ssdg-clf-p5SbCzcK-py3.12",
   "language": "python",
   "name": "python3"
  },
  "language_info": {
   "codemirror_mode": {
    "name": "ipython",
    "version": 3
   },
   "file_extension": ".py",
   "mimetype": "text/x-python",
   "name": "python",
   "nbconvert_exporter": "python",
   "pygments_lexer": "ipython3",
   "version": "3.12.6"
  }
 },
 "nbformat": 4,
 "nbformat_minor": 2
}
