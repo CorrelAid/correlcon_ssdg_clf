{
 "cells": [
  {
   "cell_type": "code",
   "execution_count": 1,
   "metadata": {},
   "outputs": [],
   "source": [
    "import polars as pl\n",
    "import pandas as pd"
   ]
  },
  {
   "cell_type": "code",
   "execution_count": 2,
   "metadata": {},
   "outputs": [],
   "source": [
    "df = pd.read_csv(\"../data/osdg-community-data-v2024-04-01.csv\", sep='\\\\t', engine='python')\n",
    "df = pl.from_pandas(df)"
   ]
  },
  {
   "cell_type": "code",
   "execution_count": 10,
   "metadata": {},
   "outputs": [
    {
     "data": {
      "text/html": [
       "<div><style>\n",
       ".dataframe > thead > tr,\n",
       ".dataframe > tbody > tr {\n",
       "  text-align: right;\n",
       "  white-space: pre-wrap;\n",
       "}\n",
       "</style>\n",
       "<small>shape: (43_025, 7)</small><table border=\"1\" class=\"dataframe\"><thead><tr><th>doi</th><th>text_id</th><th>text</th><th>sdg</th><th>labels_negative</th><th>labels_positive</th><th>agreement</th></tr><tr><td>str</td><td>str</td><td>str</td><td>i64</td><td>i64</td><td>i64</td><td>f64</td></tr></thead><tbody><tr><td>&quot;10.6027/9789289342698-7-en&quot;</td><td>&quot;00021941702cd84171ff33962197ca…</td><td>&quot;&quot;From a gender perspective, Pa…</td><td>5</td><td>1</td><td>8</td><td>0.777778</td></tr><tr><td>&quot;10.18356/eca72908-en&quot;</td><td>&quot;00028349a7f9b2485ff344ae44ccfd…</td><td>&quot;Labour legislation regulates m…</td><td>11</td><td>2</td><td>1</td><td>0.333333</td></tr><tr><td>&quot;10.1787/9789264289062-4-en&quot;</td><td>&quot;0004eb64f96e1620cd852603d9cbe4…</td><td>&quot;The average figure also masks …</td><td>3</td><td>1</td><td>8</td><td>0.777778</td></tr><tr><td>&quot;10.1787/3726edff-en&quot;</td><td>&quot;0005d3e8b213d9e2cb967666e1aca2…</td><td>&quot;Applied research is directed “…</td><td>9</td><td>3</td><td>6</td><td>0.333333</td></tr><tr><td>&quot;10.1787/5k9b7bn5qzvd-en&quot;</td><td>&quot;0006a887475ccfa5a7f5f51d4ac83d…</td><td>&quot;The extent to which they are a…</td><td>3</td><td>1</td><td>2</td><td>0.333333</td></tr><tr><td>&hellip;</td><td>&hellip;</td><td>&hellip;</td><td>&hellip;</td><td>&hellip;</td><td>&hellip;</td><td>&hellip;</td></tr><tr><td>&quot;10.6027/9789289347204-5-en&quot;</td><td>&quot;fffc6ac25f325ab949f92d3563194b…</td><td>&quot;Since the full capacity is not…</td><td>7</td><td>5</td><td>4</td><td>0.111111</td></tr><tr><td>&quot;10.1017/S0020589318000167&quot;</td><td>&quot;fffdf2bc9ac129ed95ef7727584aa7…</td><td>&quot;This article notes the judgmen…</td><td>16</td><td>2</td><td>4</td><td>0.333333</td></tr><tr><td>&quot;10.1787/9789264186378-8-en&quot;</td><td>&quot;fffe58dae29de6b843aff09b6e2f77…</td><td>&quot;Groundwater quality can also b…</td><td>6</td><td>0</td><td>3</td><td>1.0</td></tr><tr><td>&quot;10.1787/9789264191761-en&quot;</td><td>&quot;ffff357a454e2d7544f765cf2660e6…</td><td>&quot;Remedier a ces lacunes est la …</td><td>2</td><td>4</td><td>5</td><td>0.111111</td></tr><tr><td>&quot;10.18356/39dd1e2e-en&quot;</td><td>&quot;ffffcd9cc3f5d943560fe90fb9354b…</td><td>&quot;The three diseases that result…</td><td>3</td><td>1</td><td>7</td><td>0.75</td></tr></tbody></table></div>"
      ],
      "text/plain": [
       "shape: (43_025, 7)\n",
       "┌────────────────┬───────────────┬───────────────┬─────┬───────────────┬───────────────┬───────────┐\n",
       "│ doi            ┆ text_id       ┆ text          ┆ sdg ┆ labels_negati ┆ labels_positi ┆ agreement │\n",
       "│ ---            ┆ ---           ┆ ---           ┆ --- ┆ ve            ┆ ve            ┆ ---       │\n",
       "│ str            ┆ str           ┆ str           ┆ i64 ┆ ---           ┆ ---           ┆ f64       │\n",
       "│                ┆               ┆               ┆     ┆ i64           ┆ i64           ┆           │\n",
       "╞════════════════╪═══════════════╪═══════════════╪═════╪═══════════════╪═══════════════╪═══════════╡\n",
       "│ 10.6027/978928 ┆ 00021941702cd ┆ \"From a       ┆ 5   ┆ 1             ┆ 8             ┆ 0.777778  │\n",
       "│ 9342698-7-en   ┆ 84171ff339621 ┆ gender        ┆     ┆               ┆               ┆           │\n",
       "│                ┆ 97ca…         ┆ perspective,  ┆     ┆               ┆               ┆           │\n",
       "│                ┆               ┆ Pa…           ┆     ┆               ┆               ┆           │\n",
       "│ 10.18356/eca72 ┆ 00028349a7f9b ┆ Labour        ┆ 11  ┆ 2             ┆ 1             ┆ 0.333333  │\n",
       "│ 908-en         ┆ 2485ff344ae44 ┆ legislation   ┆     ┆               ┆               ┆           │\n",
       "│                ┆ ccfd…         ┆ regulates m…  ┆     ┆               ┆               ┆           │\n",
       "│ 10.1787/978926 ┆ 0004eb64f96e1 ┆ The average   ┆ 3   ┆ 1             ┆ 8             ┆ 0.777778  │\n",
       "│ 4289062-4-en   ┆ 620cd852603d9 ┆ figure also   ┆     ┆               ┆               ┆           │\n",
       "│                ┆ cbe4…         ┆ masks …       ┆     ┆               ┆               ┆           │\n",
       "│ 10.1787/3726ed ┆ 0005d3e8b213d ┆ Applied       ┆ 9   ┆ 3             ┆ 6             ┆ 0.333333  │\n",
       "│ ff-en          ┆ 9e2cb967666e1 ┆ research is   ┆     ┆               ┆               ┆           │\n",
       "│                ┆ aca2…         ┆ directed “…   ┆     ┆               ┆               ┆           │\n",
       "│ 10.1787/5k9b7b ┆ 0006a887475cc ┆ The extent to ┆ 3   ┆ 1             ┆ 2             ┆ 0.333333  │\n",
       "│ n5qzvd-en      ┆ fa5a7f5f51d4a ┆ which they    ┆     ┆               ┆               ┆           │\n",
       "│                ┆ c83d…         ┆ are a…        ┆     ┆               ┆               ┆           │\n",
       "│ …              ┆ …             ┆ …             ┆ …   ┆ …             ┆ …             ┆ …         │\n",
       "│ 10.6027/978928 ┆ fffc6ac25f325 ┆ Since the     ┆ 7   ┆ 5             ┆ 4             ┆ 0.111111  │\n",
       "│ 9347204-5-en   ┆ ab949f92d3563 ┆ full capacity ┆     ┆               ┆               ┆           │\n",
       "│                ┆ 194b…         ┆ is not…       ┆     ┆               ┆               ┆           │\n",
       "│ 10.1017/S00205 ┆ fffdf2bc9ac12 ┆ This article  ┆ 16  ┆ 2             ┆ 4             ┆ 0.333333  │\n",
       "│ 89318000167    ┆ 9ed95ef772758 ┆ notes the     ┆     ┆               ┆               ┆           │\n",
       "│                ┆ 4aa7…         ┆ judgmen…      ┆     ┆               ┆               ┆           │\n",
       "│ 10.1787/978926 ┆ fffe58dae29de ┆ Groundwater   ┆ 6   ┆ 0             ┆ 3             ┆ 1.0       │\n",
       "│ 4186378-8-en   ┆ 6b843aff09b6e ┆ quality can   ┆     ┆               ┆               ┆           │\n",
       "│                ┆ 2f77…         ┆ also b…       ┆     ┆               ┆               ┆           │\n",
       "│ 10.1787/978926 ┆ ffff357a454e2 ┆ Remedier a    ┆ 2   ┆ 4             ┆ 5             ┆ 0.111111  │\n",
       "│ 4191761-en     ┆ d7544f765cf26 ┆ ces lacunes   ┆     ┆               ┆               ┆           │\n",
       "│                ┆ 60e6…         ┆ est la …      ┆     ┆               ┆               ┆           │\n",
       "│ 10.18356/39dd1 ┆ ffffcd9cc3f5d ┆ The three     ┆ 3   ┆ 1             ┆ 7             ┆ 0.75      │\n",
       "│ e2e-en         ┆ 943560fe90fb9 ┆ diseases that ┆     ┆               ┆               ┆           │\n",
       "│                ┆ 354b…         ┆ result…       ┆     ┆               ┆               ┆           │\n",
       "└────────────────┴───────────────┴───────────────┴─────┴───────────────┴───────────────┴───────────┘"
      ]
     },
     "execution_count": 10,
     "metadata": {},
     "output_type": "execute_result"
    }
   ],
   "source": [
    "df"
   ]
  },
  {
   "cell_type": "code",
   "execution_count": 9,
   "metadata": {},
   "outputs": [
    {
     "data": {
      "text/plain": [
       "0"
      ]
     },
     "execution_count": 9,
     "metadata": {},
     "output_type": "execute_result"
    }
   ],
   "source": [
    "df[\"text_id\"].is_duplicated().sum()"
   ]
  },
  {
   "cell_type": "code",
   "execution_count": 11,
   "metadata": {},
   "outputs": [
    {
     "data": {
      "text/plain": [
       "37306"
      ]
     },
     "execution_count": 11,
     "metadata": {},
     "output_type": "execute_result"
    }
   ],
   "source": [
    "df[\"doi\"].is_duplicated().sum()"
   ]
  }
 ],
 "metadata": {
  "kernelspec": {
   "display_name": "correlcon-ssdg-clf-p7I_iMOt-py3.10",
   "language": "python",
   "name": "python3"
  },
  "language_info": {
   "codemirror_mode": {
    "name": "ipython",
    "version": 3
   },
   "file_extension": ".py",
   "mimetype": "text/x-python",
   "name": "python",
   "nbconvert_exporter": "python",
   "pygments_lexer": "ipython3",
   "version": "3.10.12"
  }
 },
 "nbformat": 4,
 "nbformat_minor": 2
}
